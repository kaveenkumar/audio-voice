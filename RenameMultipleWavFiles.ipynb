{
 "cells": [
  {
   "cell_type": "markdown",
   "metadata": {},
   "source": [
    "# This script renames multiple .wav files by looking at a .csv reference file.\n",
    "The CSV contains: column 1 as the old_filename (to be renamed) and column 2 as the new_filename (to be renamed to)."
   ]
  },
  {
   "cell_type": "code",
   "execution_count": null,
   "metadata": {},
   "outputs": [],
   "source": [
    "# import libraries\n",
    "import os\n",
    "import shutil\n",
    "import unicodecsv as csv\n",
    "import pandas as pd"
   ]
  },
  {
   "cell_type": "code",
   "execution_count": null,
   "metadata": {},
   "outputs": [],
   "source": [
    "source_directory = '/home/user/source_dir' # source folder/subfolders containing all the .wav files\n",
    "temp_directory = '/home/user/temp_dir' # temp folder used to move all .wav files from sub directories of source\n",
    "destination_directory = '/home/user/destination_dir' # final destination folder where the renamed files will be written\n",
    "for root, dirs, files in os.walk(source_directory):\n",
    "    for file in files:\n",
    "        path_file = os.path.join(root,file)\n",
    "        shutil.copy2(path_file, temp_directory)"
   ]
  },
  {
   "cell_type": "code",
   "execution_count": null,
   "metadata": {},
   "outputs": [],
   "source": [
    "metadata = 'metadata.csv' # metadata .csv that contains old and new filenames\n",
    "df = pd.read_csv(metadata)\n",
    "df"
   ]
  },
  {
   "cell_type": "code",
   "execution_count": null,
   "metadata": {},
   "outputs": [],
   "source": [
    "# open and store the csv file\n",
    "IDs = {}\n",
    "with open(metadata,'rb') as csvfile:\n",
    "    timeReader = csv.reader(csvfile, delimiter = ',')\n",
    "    # build dictionary with associated IDs\n",
    "    for row in timeReader:\n",
    "        IDs[row[0]] = row[1]\n",
    "        \n",
    "# move files\n",
    "old_path = temp_directory\n",
    "new_path = destination_directory\n",
    "for oldname in os.listdir(old_path):\n",
    "    # ignore files in path which aren't in the csv file\n",
    "    if oldname in IDs:\n",
    "        try:\n",
    "            shutil.copy(os.path.join(old_path, oldname), os.path.join(new_path, IDs[oldname]))\n",
    "        except:\n",
    "            print('File ' + oldname + ' could not be renamed to ' + IDs[oldname] + '!')"
   ]
  }
 ],
 "metadata": {
  "kernelspec": {
   "display_name": "Python 3",
   "language": "python",
   "name": "python3"
  },
  "language_info": {
   "codemirror_mode": {
    "name": "ipython",
    "version": 3
   },
   "file_extension": ".py",
   "mimetype": "text/x-python",
   "name": "python",
   "nbconvert_exporter": "python",
   "pygments_lexer": "ipython3",
   "version": "3.6.12"
  }
 },
 "nbformat": 4,
 "nbformat_minor": 4
}
