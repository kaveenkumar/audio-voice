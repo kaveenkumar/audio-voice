{
 "cells": [
  {
   "cell_type": "markdown",
   "metadata": {},
   "source": [
    "## python code to mix noise with audio / speech data"
   ]
  },
  {
   "cell_type": "markdown",
   "metadata": {},
   "source": [
    "### import libraries"
   ]
  },
  {
   "cell_type": "code",
   "execution_count": null,
   "metadata": {},
   "outputs": [],
   "source": [
    "import math   \n",
    "import numpy as np \n",
    "import librosa\n",
    "import matplotlib.pyplot as plt"
   ]
  },
  {
   "cell_type": "markdown",
   "metadata": {},
   "source": [
    "### 2 ways of generating noise\n",
    "- calculate Additive White Gaussian Noise (AWGN) from given audio\n",
    "- extract and add noise from a noisy wav file"
   ]
  },
  {
   "cell_type": "code",
   "execution_count": null,
   "metadata": {},
   "outputs": [],
   "source": [
    "#SNR in dB\n",
    "#given a signal and desired SNR, this gives the required AWGN what should be added to the signal to get the desired SNR\n",
    "def get_white_noise(signal,SNR) :\n",
    "    #RMS value of signal\n",
    "    RMS_s=math.sqrt(np.mean(signal**2))\n",
    "    #RMS values of noise\n",
    "    RMS_n=math.sqrt(RMS_s**2/(pow(10,SNR/10)))\n",
    "    #Additive white gausian noise. Thereore mean=0\n",
    "    #Because sample length is large (typically > 40000)\n",
    "    #we can use the population formula for standard daviation.\n",
    "    #because mean=0 STD=RMS\n",
    "    STD_n=RMS_n\n",
    "    noise=np.random.normal(0, STD_n, signal.shape[0])\n",
    "    return noise\n",
    "\n",
    "#given a signal, noise (audio) and desired SNR, this gives the noise (scaled version of noise input) that gives the desired SNR\n",
    "def get_noise_from_sound(signal,noise,SNR):\n",
    "    RMS_s=math.sqrt(np.mean(signal**2))\n",
    "    #required RMS of noise\n",
    "    RMS_n=math.sqrt(RMS_s**2/(pow(10,SNR/10)))\n",
    "    \n",
    "    #current RMS of noise\n",
    "    RMS_n_current=math.sqrt(np.mean(noise**2))\n",
    "    noise=noise*(RMS_n/RMS_n_current)\n",
    "    \n",
    "    return noise\n"
   ]
  },
  {
   "cell_type": "code",
   "execution_count": null,
   "metadata": {},
   "outputs": [],
   "source": [
    "#***convert complex np array to polar arrays (2 apprays; abs and angle)\n",
    "def to_polar(complex_ar):\n",
    "    return np.abs(complex_ar),np.angle(complex_ar)"
   ]
  },
  {
   "cell_type": "markdown",
   "metadata": {},
   "source": [
    "### method1: add additive white gaussian noise"
   ]
  },
  {
   "cell_type": "code",
   "execution_count": null,
   "metadata": {},
   "outputs": [],
   "source": [
    "#\n",
    "#*add AWGN noise\n",
    "#\n",
    "signal_file='20210223_arne_grind.wav'\n",
    "signal, sr = librosa.load(signal_file)\n",
    "signal=np.interp(signal, (signal.min(), signal.max()), (-1, 1))\n",
    "noise=get_white_noise(signal,SNR=10)\n",
    "#analyze the frequency components in the signal\n",
    "X=np.fft.rfft(noise)\n",
    "radius,angle=to_polar(X)\n",
    "plt.plot(radius)\n",
    "plt.xlabel(\"FFT coefficient\")\n",
    "plt.ylabel(\"Magnitude\")\n",
    "plt.show()\n",
    "signal_noise=signal+noise\n",
    "plt.plot(signal_noise)\n",
    "plt.xlabel(\"Sample number\")\n",
    "plt.ylabel(\"Amplitude\")\n",
    "plt.show()\n"
   ]
  },
  {
   "cell_type": "markdown",
   "metadata": {},
   "source": [
    "### method2: extract and add noise from a wav file "
   ]
  },
  {
   "cell_type": "code",
   "execution_count": null,
   "metadata": {
    "scrolled": true
   },
   "outputs": [],
   "source": [
    "# helper script to crop the noise file to match audio file\n",
    "noise_file='3S0D_12_8_0_16_0_0_0.wav'\n",
    "noise, sr = librosa.load(noise_file)\n",
    "\n",
    "if (len(noise)<len(signal)):\n",
    "    while (len(noise)<len(signal)):\n",
    "        noise = np.append(noise, noise)\n",
    "        noise=noise[0:len(signal)]\n",
    "elif(len(noise)>len(signal)):\n",
    "    noise=noise[0:len(signal)]\n",
    "\n",
    "assert len(noise) == len(signal)"
   ]
  },
  {
   "cell_type": "code",
   "execution_count": null,
   "metadata": {
    "scrolled": false
   },
   "outputs": [],
   "source": [
    "#*\n",
    "#*add real world noise*\n",
    "#*\n",
    "signal, sr = librosa.load(signal_file)\n",
    "signal=np.interp(signal, (signal.min(), signal.max()), (-1, 1))\n",
    "plt.plot(signal)\n",
    "plt.xlabel(\"Sample number\")\n",
    "plt.ylabel(\"Signal amplitude\")\n",
    "plt.show()\n",
    "\n",
    "noise_file='3S0D_12_8_0_16_0_0_0.wav'\n",
    "noise, sr = librosa.load(noise_file)\n",
    "noise=np.interp(noise, (noise.min(), noise.max()), (-1, 1))\n",
    "noise=get_noise_from_sound(signal,noise,SNR=1)\n",
    "\n",
    "signal_noise=signal+noise\n",
    "\n",
    "print(\"SNR = \" + str(20*np.log10(math.sqrt(np.mean(signal**2))/math.sqrt(np.mean(noise**2)))))\n",
    "\n",
    "plt.plot(signal_noise)\n",
    "plt.xlabel(\"Sample number\")\n",
    "plt.ylabel(\"Amplitude\")\n",
    "plt.show()"
   ]
  },
  {
   "cell_type": "markdown",
   "metadata": {},
   "source": [
    "### save the noisy audio file"
   ]
  },
  {
   "cell_type": "code",
   "execution_count": null,
   "metadata": {},
   "outputs": [],
   "source": [
    "from scipy.io.wavfile import write\n",
    "write(\"noisy_speech.wav\",sr,signal_noise)"
   ]
  }
 ],
 "metadata": {
  "kernelspec": {
   "display_name": "Python 3",
   "language": "python",
   "name": "python3"
  },
  "language_info": {
   "codemirror_mode": {
    "name": "ipython",
    "version": 3
   },
   "file_extension": ".py",
   "mimetype": "text/x-python",
   "name": "python",
   "nbconvert_exporter": "python",
   "pygments_lexer": "ipython3",
   "version": "3.8.5"
  }
 },
 "nbformat": 4,
 "nbformat_minor": 4
}
