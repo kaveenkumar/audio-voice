{
 "cells": [
  {
   "cell_type": "code",
   "execution_count": 2,
   "id": "a851f885",
   "metadata": {},
   "outputs": [
    {
     "name": "stdout",
     "output_type": "stream",
     "text": [
      "/home/kaveen/Downloads/train-clean-100/LibriSpeech/train-clean-100/6081/41997/6081-41997.trans.txt\n",
      "hey found\n"
     ]
    }
   ],
   "source": [
    "\"\"\"\n",
    "pattern represents the word to be checked\n",
    "folder represents the base dir which might contain multiple subdirs and each .txt within subdirs are checked\n",
    "\"\"\"\n",
    "\n",
    "from pathlib import Path\n",
    "import re\n",
    "\n",
    "PATTERN = ['hey']\n",
    "FOLDER = \"/home/kaveen/Downloads/train-clean-100/LibriSpeech/train-clean-100/\"\n",
    "\n",
    "for path in Path(FOLDER).rglob('*.txt'):\n",
    "    with open(path) as f:\n",
    "        text = f.read().lower()\n",
    "        for words in PATTERN:\n",
    "            if re.search(r'\\b' + words + r'\\b', text):\n",
    "                print(path)\n",
    "                print(f'{words} found')"
   ]
  },
  {
   "cell_type": "code",
   "execution_count": null,
   "id": "c1a371e9",
   "metadata": {},
   "outputs": [],
   "source": []
  }
 ],
 "metadata": {
  "kernelspec": {
   "display_name": "Python 3",
   "language": "python",
   "name": "python3"
  },
  "language_info": {
   "codemirror_mode": {
    "name": "ipython",
    "version": 3
   },
   "file_extension": ".py",
   "mimetype": "text/x-python",
   "name": "python",
   "nbconvert_exporter": "python",
   "pygments_lexer": "ipython3",
   "version": "3.6.11"
  }
 },
 "nbformat": 4,
 "nbformat_minor": 5
}
